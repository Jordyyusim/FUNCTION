{
 "cells": [
  {
   "cell_type": "markdown",
   "metadata": {},
   "source": [
    "### _Convert USD <=> IDR_"
   ]
  },
  {
   "cell_type": "code",
   "execution_count": null,
   "metadata": {},
   "outputs": [],
   "source": [
    "# def konversi():\n",
    "#     print('Pilih metode konversi')\n",
    "#     print('1. USD TO IDR')\n",
    "#     print('2. IDR TO USD')\n",
    "#     metode = input('Pilihan Anda : ')\n",
    "#     if metode == '1':\n",
    "#         nominal = float(input('Ketik nominal USD : '))\n",
    "#         kurs = round(nominal * 14000, 2)\n",
    "#         print('nominal', nominal, 'setara', kurs, 'IDR')\n",
    "#     elif metode == '2':\n",
    "#         nominal = float(input('Ketik nominal IDR : '))\n",
    "#         kurs = round(nominal / 14000, 2)\n",
    "#         print('nominal', nominal, 'setara', kurs, 'USD')\n",
    "#     else:\n",
    "#         print('Metode anda salah')\n",
    "#         # konversi()\n",
    "# konversi()"
   ]
  }
 ],
 "metadata": {
  "kernelspec": {
   "display_name": "Python 3",
   "language": "python",
   "name": "python3"
  },
  "language_info": {
   "codemirror_mode": {
    "name": "ipython",
    "version": 3
   },
   "file_extension": ".py",
   "mimetype": "text/x-python",
   "name": "python",
   "nbconvert_exporter": "python",
   "pygments_lexer": "ipython3",
   "version": "3.8.1"
  }
 },
 "nbformat": 4,
 "nbformat_minor": 4
}
