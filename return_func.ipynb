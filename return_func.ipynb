{
 "cells": [
  {
   "cell_type": "markdown",
   "metadata": {},
   "source": [
    "# __RETURN FUNCTION__\n",
    "#### A function with a value\n",
    "<hr>\n",
    "<hr>"
   ]
  },
  {
   "cell_type": "code",
   "execution_count": null,
   "metadata": {},
   "outputs": [],
   "source": [
    "# def halo():\n",
    "#     print('Halo')\n",
    "# print(halo())\n",
    "\n",
    "# def halo():\n",
    "#     return 12\n",
    "# print(halo())"
   ]
  },
  {
   "cell_type": "code",
   "execution_count": null,
   "metadata": {},
   "outputs": [],
   "source": [
    "# def luascircle(r):\n",
    "#     luas = 3.14 * r * r\n",
    "#     print('luas', luas)\n",
    "# luascircle(10)\n",
    "\n",
    "# def luascircle(r):\n",
    "#     luas = 3.14 * r * r\n",
    "#     return luas\n",
    "# print('luas ling adalah', luascircle(10))"
   ]
  },
  {
   "cell_type": "code",
   "execution_count": null,
   "metadata": {},
   "outputs": [],
   "source": [
    "# def pangkat(x, y)\n",
    "#     return x ** y\n",
    "# print(pangkat(3, 2))\n",
    "# print(pangkat(5, 9))"
   ]
  }
 ],
 "metadata": {
  "kernelspec": {
   "display_name": "Python 3",
   "language": "python",
   "name": "python3"
  },
  "language_info": {
   "codemirror_mode": {
    "name": "ipython",
    "version": 3
   },
   "file_extension": ".py",
   "mimetype": "text/x-python",
   "name": "python",
   "nbconvert_exporter": "python",
   "pygments_lexer": "ipython3",
   "version": "3.8.1"
  }
 },
 "nbformat": 4,
 "nbformat_minor": 4
}
